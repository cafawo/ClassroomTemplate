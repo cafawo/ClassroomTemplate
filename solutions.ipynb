{
 "cells": [
  {
   "cell_type": "markdown",
   "id": "dd7d8bb2",
   "metadata": {},
   "source": [
    "![head.png](https://github.com/iwh-halle/FinancialDataAnalytics/blob/master/figures/head.jpg?raw=1)\n",
    "\n",
    "# Financial Data Analytics in Python\n",
    "\n",
    "**Prof. Dr. Fabian Woebbeking**</br>\n",
    "Assistant Professor of Financial Economics\n",
    "\n",
    "IWH - Leibniz Institute for Economic Research</br>\n",
    "MLU - Martin Luther University Halle-Wittenberg\n",
    "\n",
    "fabian.woebbeking@iwh-halle.de"
   ]
  },
  {
   "cell_type": "markdown",
   "id": "6ea15b41",
   "metadata": {},
   "source": [
    "## Please follow these rules:\n",
    "\n",
    "1. Do NOT change the name of this file.\n",
    "2. The numerical result (if applicable) of each task must be printed, e.g.\n",
    "    ```python\n",
    "    result = 1/3\n",
    "    print(result)\n",
    "    ```\n",
    "3. Do not format any printed output using `print(f\"...\")`. Print **numeric or variable results** directly (see example above).\n",
    "4. Do **not** round results at any point in your calculations.\n",
    "5. Do not **change or remove the last code cell**. It is necessary for conversion and grading.\n",
    "\n",
    "\n",
    "From this point onward, you may start adding your solutions, you can add as many code and markdown cells as you like. However, please follow the print instructions exactly to ensure your submission is autograded correctly."
   ]
  },
  {
   "cell_type": "markdown",
   "id": "02bfc1f7",
   "metadata": {},
   "source": [
    "# Example case part I:\n",
    "\n",
    "## Example task 1.1: "
   ]
  },
  {
   "cell_type": "code",
   "execution_count": 1,
   "id": "e08d21df",
   "metadata": {},
   "outputs": [
    {
     "name": "stdout",
     "output_type": "stream",
     "text": [
      "1.3333333333333333\n"
     ]
    }
   ],
   "source": [
    "# example code cell \n",
    "x = 1 + 1/3\n",
    "print(x)"
   ]
  },
  {
   "cell_type": "markdown",
   "id": "41e2f1a5",
   "metadata": {},
   "source": [
    "# The End\n",
    "\n",
    "<div style=\"color: red; font-weight: bold; font-size: 18px\">\n",
    "⚠️ DO NOT MODIFY OR MOVE THE CODE CELL BELOW! ⚠️\n",
    "</div>\n",
    "\n",
    "The following code **must remain unchanged** and at the end of the script and **must be executed once your homework is completed**.\n",
    "\n",
    "This block converts your notebook to a `.py` file for GitHub Classroom autograding. After you have completed the assignment, simply run the entire notebook again and you should see a file called solutions.py, which we will use for autograding. You can run - and therefore recreate solutions.py - as often as you want."
   ]
  },
  {
   "cell_type": "code",
   "execution_count": null,
   "id": "b06104de",
   "metadata": {},
   "outputs": [],
   "source": [
    "# Convert notebook to script\n",
    "try:\n",
    "    # Check if running in a Jupyter notebook\n",
    "    shell = get_ipython().__class__.__name__\n",
    "    if shell == 'ZMQInteractiveShell':\n",
    "        import os\n",
    "        os.system('jupyter nbconvert solutions.ipynb --to script')\n",
    "except NameError:\n",
    "    pass"
   ]
  }
 ],
 "metadata": {
  "kernelspec": {
   "display_name": "case-env",
   "language": "python",
   "name": "python3"
  },
  "language_info": {
   "codemirror_mode": {
    "name": "ipython",
    "version": 3
   },
   "file_extension": ".py",
   "mimetype": "text/x-python",
   "name": "python",
   "nbconvert_exporter": "python",
   "pygments_lexer": "ipython3",
   "version": "3.10.13"
  }
 },
 "nbformat": 4,
 "nbformat_minor": 5
}
